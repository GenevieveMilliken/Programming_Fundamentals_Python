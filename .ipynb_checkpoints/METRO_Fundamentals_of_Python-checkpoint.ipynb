{
 "cells": [
  {
   "cell_type": "markdown",
   "metadata": {},
   "source": [
    "# METRO Library Council - Fundamentals of Python 2020.02.25"
   ]
  },
  {
   "cell_type": "markdown",
   "metadata": {},
   "source": [
    "# Why Python? \n",
    "\n",
    "Python is an incredibly efficient programming language and allows us to do some impressive things with only a few lines of code! Thanks to Python’s syntax, we can write “clean” code that is easier to debug and allows for overall readability. Further, code written in Python is easily extendable and reusable, allowing you and others to build upon existing code. Python is used in a variety of contexts from game design to data analysis. It is also used a lot in academic research, especially in the sciences. It has utility regardless what discipline you come from or are currently working in."
   ]
  },
  {
   "cell_type": "markdown",
   "metadata": {},
   "source": [
    "## Python Environment\n",
    "If Python is installed on your computer, you can interact with it on the command line, sometimes referred to as the \"terminal\", \"console\", \"Python shell\" or \"REPL\" (Read, Eval, Print and Loop). More often, people use a text editor, such as [Sublime](https://www.sublimetext.com/), or more sophisticated IDEs such as [PyCharm](https://www.jetbrains.com/pycharm/) to write and run code.\n",
    "\n",
    "Today, we are using a browser-based Jupyter Notebook, which allows users to selectively run code cells and add rich text elements (paragraph, equations, figures, notes, links) in Markdown. With code, notes, instructions, and comments all in one place, it serves as a powerful resource and learning tool.\n"
   ]
  },
  {
   "cell_type": "markdown",
   "metadata": {},
   "source": [
    "## What does this lesson cover? \n",
    "\n",
    "* Variables\n",
    "* Data Types\n",
    "* Lists \n",
    "* Loops\n",
    "* Conditional Statements\n",
    "* Functions and Arguments\n",
    "* Python Libraries"
   ]
  },
  {
   "cell_type": "markdown",
   "metadata": {},
   "source": [
    "## Basic Syntax\n",
    "Python is sometimes loosely referred to as 'executable pseudocode' since it often uses easily recognizable words, which can be used to infer what is happening or what will happen. Take for example, the simple line of code below. What do you think will happen when we run it? \n",
    "\n",
    "**to run press `Shift-Enter`**"
   ]
  },
  {
   "cell_type": "code",
   "execution_count": null,
   "metadata": {
    "scrolled": true
   },
   "outputs": [],
   "source": [
    "print(\"Hello, World!\")"
   ]
  },
  {
   "cell_type": "markdown",
   "metadata": {},
   "source": [
    "# Variables"
   ]
  },
  {
   "cell_type": "code",
   "execution_count": null,
   "metadata": {},
   "outputs": [],
   "source": [
    "## To use data, we first assign it to a \"variable\"\n",
    "\n",
    "NY_state_bird = \"Eastern Bluebird\""
   ]
  },
  {
   "cell_type": "markdown",
   "metadata": {},
   "source": [
    "You can think about it as:\n",
    "> \"The variable 'NY_state_bird' *gets* the value Eastern Bluebird\"."
   ]
  },
  {
   "cell_type": "code",
   "execution_count": null,
   "metadata": {},
   "outputs": [],
   "source": [
    "## Create a variable called my_name and run\n",
    "\n"
   ]
  },
  {
   "cell_type": "markdown",
   "metadata": {},
   "source": [
    "A variable, like the one above, holds a *value* and once assigned holds the information associated with that value. The value can be changed or reassigned within the program, but will remain the same until you alter it. For example, we can change the value of message to something new. "
   ]
  },
  {
   "cell_type": "code",
   "execution_count": null,
   "metadata": {},
   "outputs": [],
   "source": [
    "message = \"Hello, World!\"\n",
    "print(message)"
   ]
  },
  {
   "cell_type": "code",
   "execution_count": null,
   "metadata": {},
   "outputs": [],
   "source": [
    "message = \"METRO rocks!\"\n",
    "print(message)"
   ]
  },
  {
   "cell_type": "markdown",
   "metadata": {},
   "source": [
    "Why can we do this? Because Python interprets one line at a time! Be careful, once a variable has been changed, it will hold that new value. When in doubt, don't re-use variable names unless you are absolutely sure that you don't need the old value any longer."
   ]
  },
  {
   "cell_type": "markdown",
   "metadata": {},
   "source": [
    "### Rules for naming variables\n",
    "\n",
    "* can only contain letters, numbers, and underscores\n",
    "* can start with an underscore, but not a number\n",
    "* no spaces, but an underscore can be used to separate words or you can use CamelCase\n",
    "* cannot use the names of Python [built-in functions](https://docs.python.org/3/library/functions.html) or [keywords](https://www.w3schools.com/python/python_ref_keywords.asp)\n",
    "* should be short, but descriptive (employee_name is better than e_n)\n",
    "* be consistent. If you start with CamelCase or snake_case, try to use it throughout "
   ]
  },
  {
   "cell_type": "code",
   "execution_count": null,
   "metadata": {},
   "outputs": [],
   "source": [
    "# keywords, built-in functions, and reserved words cannot be used as variable names \n",
    "\n",
    "True = 3"
   ]
  },
  {
   "cell_type": "code",
   "execution_count": null,
   "metadata": {},
   "outputs": [],
   "source": [
    "# Spelling and syntax must be exact \n",
    "\n",
    "message = \"I'm starting to understand variables!\"\n",
    "print(mesage)"
   ]
  },
  {
   "cell_type": "markdown",
   "metadata": {},
   "source": [
    "# Data Types\n",
    "Four of the most basic data types in Python are:\n",
    "* string: `\"Hello, World!\"`\n",
    "* integer: `74`\n",
    "* decimal (float): `7.4`\n",
    "* boolean: `TRUE` `FALSE`"
   ]
  },
  {
   "cell_type": "code",
   "execution_count": null,
   "metadata": {},
   "outputs": [],
   "source": [
    "# If you are unsure what the data type is, you can use the type() method \n",
    "# which returns class type of the argument(object) passed as parameter.\n",
    "\n",
    "message = \"Hello, World\"\n",
    "num = 74\n",
    "\n",
    "print(type(message))\n",
    "print(type(num))"
   ]
  },
  {
   "cell_type": "markdown",
   "metadata": {},
   "source": [
    "## Strings\n",
    "A *string* is a series of unicode characters surrounded by single or double quotation marks."
   ]
  },
  {
   "cell_type": "code",
   "execution_count": null,
   "metadata": {},
   "outputs": [],
   "source": [
    "# With this variable, we are printing it's type and its length with Python's built-in functions\n",
    "\n",
    "favorite_game = \"sonic the hedgehog\"\n",
    "print(type(favorite_game))\n",
    "print(len(favorite_game))"
   ]
  },
  {
   "cell_type": "code",
   "execution_count": null,
   "metadata": {},
   "outputs": [],
   "source": [
    "# helpful built-in functions that transform strings\n",
    "\n",
    "print(favorite_game.title())\n",
    "print(favorite_game.upper())\n",
    "print(favorite_game.lower())\n"
   ]
  },
  {
   "cell_type": "code",
   "execution_count": null,
   "metadata": {},
   "outputs": [],
   "source": [
    "# Create a variable and assign it a string. Use two of the built-in functions and print them both. \n",
    "# You should have three lines of code.\n",
    "\n",
    "\n",
    "\n"
   ]
  },
  {
   "cell_type": "markdown",
   "metadata": {},
   "source": [
    "### Concatenating Strings\n",
    "\n",
    "Sometimes it's helpful to join strings together. A common method is to use the plus symbol (+) to add multiple strings together. Simply place a + between as many strings as you want to join together."
   ]
  },
  {
   "cell_type": "code",
   "execution_count": null,
   "metadata": {},
   "outputs": [],
   "source": [
    "# concatenate strings, in this case a first and a last name, using the + operator\n",
    "\n",
    "first_name = \"grace\"\n",
    "last_name = \"hopper\"\n",
    "full_name = first_name + \" \" + last_name\n",
    "print(full_name)"
   ]
  },
  {
   "cell_type": "code",
   "execution_count": null,
   "metadata": {},
   "outputs": [],
   "source": [
    "# adding to this, we can use a built-in function + a longer string. \n",
    "\n",
    "print(full_name.title() + \" was a pioneer of computer programming.\")"
   ]
  },
  {
   "cell_type": "markdown",
   "metadata": {},
   "source": [
    "Now you try! Create two or more variables and print out a message of your own!"
   ]
  },
  {
   "cell_type": "code",
   "execution_count": null,
   "metadata": {},
   "outputs": [],
   "source": [
    "## Create two or more variables and use the print statement to tell us about something that interests you!\n",
    "## Favorite author, actor, game, place to visit are all good options!\n",
    "\n",
    "\n",
    "\n",
    "\n",
    "\n"
   ]
  },
  {
   "cell_type": "code",
   "execution_count": null,
   "metadata": {},
   "outputs": [],
   "source": [
    "# Here's my example with an escape character.\n",
    "\n",
    "first_name = \"alan\"\n",
    "last_name = \"turing\"\n",
    "full_name = first_name + \" \" + last_name \n",
    "print(full_name.title() + \" once said, \\\"Machines take me by surprise with great frequency.\\\"\") "
   ]
  },
  {
   "cell_type": "markdown",
   "metadata": {},
   "source": [
    "Sometimes, we need to add spaces, line breaks, and tabs to our text. "
   ]
  },
  {
   "cell_type": "code",
   "execution_count": null,
   "metadata": {},
   "outputs": [],
   "source": [
    "# Adding a line break and a empty line with two consecutive \"/n\"\n",
    "\n",
    "line_one = \"An old silent pond...\"\n",
    "line_two = \"A frog jumps into the pond,\"\n",
    "line_three = \"Splash! Silence again.\"\n",
    "Basho_Haiku = line_one + \"\\n\" + \"\\n\" + line_two + \"\\n\" + \"\\n\" + line_three\n",
    "print(Basho_Haiku)\n"
   ]
  },
  {
   "cell_type": "markdown",
   "metadata": {},
   "source": [
    "## Challege 1"
   ]
  },
  {
   "cell_type": "code",
   "execution_count": null,
   "metadata": {},
   "outputs": [],
   "source": [
    "# create a quote from a famous person and also create your own haiku (5, 7, 5)\n",
    "\n",
    "\n",
    "\n",
    "\n",
    "\n",
    "\n",
    "\n",
    "\n"
   ]
  },
  {
   "cell_type": "markdown",
   "metadata": {},
   "source": [
    "### Tidying up Strings\n",
    "Texts are messy, sometimes you need to clean them up!"
   ]
  },
  {
   "cell_type": "markdown",
   "metadata": {},
   "source": [
    "### Striping Whitespace"
   ]
  },
  {
   "cell_type": "code",
   "execution_count": null,
   "metadata": {
    "scrolled": true
   },
   "outputs": [],
   "source": [
    "# we can remove white space from the left and right\n",
    "\n",
    "text = \" This sentence has too many    spaces. \"\n",
    "print(text) \n",
    "\n",
    "text = text.lstrip()\n",
    "text = text.rstrip()\n",
    "print(text)"
   ]
  },
  {
   "cell_type": "markdown",
   "metadata": {},
   "source": [
    "### Using Remove\n",
    "\n",
    "Note: .remove( ) takes two parameters, first is what you are looking for in the text and the second is what you want to replace it with.\n",
    "\n",
    "> string.replace(old, new)"
   ]
  },
  {
   "cell_type": "code",
   "execution_count": null,
   "metadata": {},
   "outputs": [],
   "source": [
    "# use replace to remove white spaces from the middle of texts, replacing it with a single space.\n",
    "\n",
    "text = text.replace(\"    \", \" \")\n",
    "print(text)"
   ]
  },
  {
   "cell_type": "markdown",
   "metadata": {},
   "source": [
    "### Real World Example\n",
    "\n",
    "Working with a list of strings may require some tidying up, especially if you want to work with text as data. \n",
    "Often this is a process! Here's a real world example from my research on ingredients in classic recipes."
   ]
  },
  {
   "cell_type": "code",
   "execution_count": null,
   "metadata": {},
   "outputs": [],
   "source": [
    "# we can clean this text up using some of Python's built-in functions as well as re (a regular expressions library)\n",
    "\n",
    "import re\n",
    "\n",
    "# Here is the in ingredient list. How do we isolate just the ingredients by themselves?\n",
    "crawfish_pasta = \"1/4 cup olive oil; 5 scallions, roughly chopped; 2 cloves garlic, minced; 1 medium yellow onion, minced; 1/2 small green bell pepper, seeded and minced; 1/2 cup dry white wine; dried mint; 1 can whole peeled tomatoes; 2 lb. cooked, peeled crawfish tails; 1 cup heavy cream; 1/3 cup roughly chopped parsley, plus more for garnish; Tabasco; Kosher salt and freshly ground black pepper; 1 lb. linguine;Grated parmesan\"\n",
    "\n",
    "# Remove some of the re-occuring text using replace\n",
    "crawfish_pasta = crawfish_pasta.replace(\", minced\", \"\").replace(\", roughly chopped\", \"\").replace(\"/\", \"\").replace(\" cup\", \"\").replace(\", seeded and minced\", \"\").replace(\"roughly chopped\", \"\").replace(\", plus more for garnish\", \"\").replace(\"lb. \", \"\")\n",
    "print(crawfish_pasta)\n",
    "\n",
    "# use a simple regular expression to remove numbers and strip white space\n",
    "crawfish_pasta = re.sub('[0-9]', '', crawfish_pasta).strip()\n",
    "# print(crawfish_pasta)\n",
    "\n",
    "# replace consecutive spaces and colapse spaces following the semicolons \n",
    "crawfish_pasta = crawfish_pasta.replace(\"  \", \"\").replace(\"; \", \";\")\n",
    "# print(crawfish_pasta)\n",
    "\n",
    "#split at semicolon (i.e. our delimiter) and break string into a list\n",
    "crawfish_pasta = crawfish_pasta.split(';')\n",
    "# print(crawfish_pasta)\n"
   ]
  },
  {
   "cell_type": "code",
   "execution_count": null,
   "metadata": {
    "scrolled": true
   },
   "outputs": [],
   "source": [
    "for ingredient in crawfish_pasta:\n",
    "    print(ingredient)"
   ]
  },
  {
   "cell_type": "markdown",
   "metadata": {},
   "source": [
    "### Any Questions About Strings?"
   ]
  },
  {
   "cell_type": "markdown",
   "metadata": {},
   "source": [
    "## Integers\n",
    "An *integer* in Python is a whole number, also known as counting numbers or natural numbers. They can be positive or negative."
   ]
  },
  {
   "cell_type": "code",
   "execution_count": null,
   "metadata": {},
   "outputs": [],
   "source": [
    "3+4 # Addition"
   ]
  },
  {
   "cell_type": "code",
   "execution_count": null,
   "metadata": {},
   "outputs": [],
   "source": [
    "4-3 # Subtraction"
   ]
  },
  {
   "cell_type": "code",
   "execution_count": null,
   "metadata": {},
   "outputs": [],
   "source": [
    "30*10 # Multiplication"
   ]
  },
  {
   "cell_type": "code",
   "execution_count": null,
   "metadata": {
    "scrolled": true
   },
   "outputs": [],
   "source": [
    "30/10 # Whole division"
   ]
  },
  {
   "cell_type": "code",
   "execution_count": null,
   "metadata": {},
   "outputs": [],
   "source": [
    "46//4 #Floor Division"
   ]
  },
  {
   "cell_type": "code",
   "execution_count": null,
   "metadata": {},
   "outputs": [],
   "source": [
    "10**6 ## An exponent operation"
   ]
  },
  {
   "cell_type": "code",
   "execution_count": null,
   "metadata": {},
   "outputs": [],
   "source": [
    "## Order of Operations PEMDAS - Please excuse my dear Aunt Sally!\n",
    "10 - ((14 / 2) * 3) + 1"
   ]
  },
  {
   "cell_type": "code",
   "execution_count": null,
   "metadata": {},
   "outputs": [],
   "source": [
    "# determine if a number is odd or even using modulo, or remainder, operations\n",
    "even_num = 10%2\n",
    "odd_num = 15%2\n",
    "\n",
    "print(even_num)\n",
    "print(odd_num)\n"
   ]
  },
  {
   "cell_type": "markdown",
   "metadata": {},
   "source": [
    "Why? \n",
    "An even number has no remainder when divided by 2. An odd number will have a remainder."
   ]
  },
  {
   "cell_type": "markdown",
   "metadata": {},
   "source": [
    "## Floats\n",
    "A *float* in Python is any number with a decimal point."
   ]
  },
  {
   "cell_type": "code",
   "execution_count": null,
   "metadata": {},
   "outputs": [],
   "source": [
    "# volume of a rectangle\n",
    "\n",
    "height = 3.5\n",
    "length = 7.25\n",
    "width = 7.75\n",
    "V = height*length*width\n",
    "print(V)"
   ]
  },
  {
   "cell_type": "code",
   "execution_count": null,
   "metadata": {},
   "outputs": [],
   "source": [
    "# using int means the value is restricted to the non-decimal number\n",
    "\n",
    "int(V)"
   ]
  },
  {
   "cell_type": "code",
   "execution_count": null,
   "metadata": {},
   "outputs": [],
   "source": [
    "# the round function helps handle floating point numbers (floats).\n",
    "# the number after the comma (in this case 2) sets the precision of the decimal.\n",
    "# this example restricts the numbers after the decimal point to 2 (handy when printing sums that refer to money)\n",
    "\n",
    "round(V, 2)"
   ]
  },
  {
   "cell_type": "code",
   "execution_count": null,
   "metadata": {},
   "outputs": [],
   "source": [
    "# If you need only what is after the decimal point, you could do something like this:\n",
    "\n",
    "dec_portion = V - int(V)\n",
    "print(dec_portion)"
   ]
  },
  {
   "cell_type": "markdown",
   "metadata": {},
   "source": [
    "### Avoiding TypeError with the Str() Function"
   ]
  },
  {
   "cell_type": "code",
   "execution_count": null,
   "metadata": {},
   "outputs": [],
   "source": [
    "# strings and integers are different data types:\n",
    "\n",
    "fav_num = 3.14\n",
    "message = \"My favorite number is \" + fav_num + \".\"\n",
    "print(message)"
   ]
  },
  {
   "cell_type": "code",
   "execution_count": null,
   "metadata": {},
   "outputs": [],
   "source": [
    "# The str() function is used to convert the specified value, in this case an integer, into a string. \n",
    "\n",
    "message = \"My favorite number is \" + str(fav_num) + \".\"\n",
    "print(message)"
   ]
  },
  {
   "cell_type": "markdown",
   "metadata": {},
   "source": [
    "## Booleans"
   ]
  },
  {
   "cell_type": "code",
   "execution_count": null,
   "metadata": {},
   "outputs": [],
   "source": [
    "3>=4"
   ]
  },
  {
   "cell_type": "code",
   "execution_count": null,
   "metadata": {},
   "outputs": [],
   "source": [
    "3 == 4"
   ]
  },
  {
   "cell_type": "code",
   "execution_count": null,
   "metadata": {},
   "outputs": [],
   "source": [
    "x = 255\n",
    "y = 33\n",
    "\n",
    "if x > y:\n",
    "  print(\"x is greater than y.\")\n",
    "else:\n",
    "  print(\"x is not greater than y.\")"
   ]
  },
  {
   "cell_type": "markdown",
   "metadata": {},
   "source": [
    "## Challenge 2"
   ]
  },
  {
   "cell_type": "code",
   "execution_count": null,
   "metadata": {},
   "outputs": [],
   "source": [
    "# Creating helpful conversion! Feel free to work with a partner.\n",
    "\n",
    "\n",
    "# 1: Convert farenheit to celsius:\n",
    "# formula: celsius = (farenheit - 32) * 5/9\n",
    "\n",
    "\n",
    "\n",
    "# 2: Convert celsius to farenheit:\n",
    "# formula: farenheit = (celsius * 9/5) + 32\n",
    "\n",
    "\n",
    "\n",
    "\n",
    "# 3: Convert pounds to kilograms:\n",
    "# formula: kilograms = pounds/2.2046226218\n",
    "\n",
    "\n",
    "\n",
    "# 4: Convert kilograms to pounds:\n",
    "# formula: pounds = kilograms * 2.2046226218\n",
    "\n",
    "\n",
    "\n"
   ]
  },
  {
   "cell_type": "markdown",
   "metadata": {},
   "source": [
    "### -------BREAK----------\n"
   ]
  },
  {
   "cell_type": "markdown",
   "metadata": {},
   "source": [
    "# Lists\n",
    "A *list* is a collection of items in a particular order. Lists can contain strings, integers, floats and each element is separtated by a comma. Lists are always inside square brackets.\n"
   ]
  },
  {
   "cell_type": "code",
   "execution_count": null,
   "metadata": {},
   "outputs": [],
   "source": [
    "# An example of a list\n",
    "\n",
    "my_grocery_list = [\"bananas\", \"pears\", \"apples\", \"chocolate\", \"coffee\", \"cereal\", \"kale\", \"juice\"]\n",
    "print(my_grocery_list)"
   ]
  },
  {
   "cell_type": "code",
   "execution_count": null,
   "metadata": {},
   "outputs": [],
   "source": [
    "# we can use the len function to see how many items are in a list\n",
    "\n",
    "len(my_grocery_list)"
   ]
  },
  {
   "cell_type": "code",
   "execution_count": null,
   "metadata": {},
   "outputs": [],
   "source": [
    "# remember, Python indexing starts at zero \n",
    "\n",
    "print(my_grocery_list[2])"
   ]
  },
  {
   "cell_type": "code",
   "execution_count": null,
   "metadata": {},
   "outputs": [],
   "source": [
    "# using the end index will give you the last item in the list\n",
    "\n",
    "print(my_grocery_list[-1])"
   ]
  },
  {
   "cell_type": "code",
   "execution_count": null,
   "metadata": {},
   "outputs": [],
   "source": [
    "# If you need a range in a list, you can use can set a range using start_index:end_index\n",
    "\n",
    "print(my_grocery_list[3:5])"
   ]
  },
  {
   "cell_type": "code",
   "execution_count": null,
   "metadata": {},
   "outputs": [],
   "source": [
    "# Sorting will put your list in alphabetical order\n",
    "\n",
    "print(sorted(my_grocery_list))"
   ]
  },
  {
   "cell_type": "code",
   "execution_count": null,
   "metadata": {},
   "outputs": [],
   "source": [
    "# using the sorted fuction is not permanent\n",
    "\n",
    "print(my_grocery_list)"
   ]
  },
  {
   "cell_type": "code",
   "execution_count": null,
   "metadata": {
    "scrolled": true
   },
   "outputs": [],
   "source": [
    "# to make it so, use the sort function\n",
    "\n",
    "my_grocery_list.sort()\n",
    "print(my_grocery_list)"
   ]
  },
  {
   "cell_type": "code",
   "execution_count": null,
   "metadata": {},
   "outputs": [],
   "source": [
    "# we can also permanently reverse this list\n",
    "\n",
    "my_grocery_list.reverse()\n",
    "print(my_grocery_list)"
   ]
  },
  {
   "cell_type": "markdown",
   "metadata": {},
   "source": [
    "## Challenge 3"
   ]
  },
  {
   "cell_type": "code",
   "execution_count": null,
   "metadata": {},
   "outputs": [],
   "source": [
    "# Make a list of 10 items\n",
    "# print the list\n",
    "# reverse and print the list \n",
    "# print the middle three elements of the list\n",
    "\n",
    "\n",
    "\n",
    "\n",
    "\n",
    "\n",
    "\n"
   ]
  },
  {
   "cell_type": "markdown",
   "metadata": {},
   "source": [
    "### List Manipulation: Adding, Editing, and Removing Items in a list"
   ]
  },
  {
   "cell_type": "code",
   "execution_count": null,
   "metadata": {},
   "outputs": [],
   "source": [
    "# this is a list of items in our makerspace\n",
    "\n",
    "makerspace = [\"Arduino\", \"3D printer\", \"sewing machine\", \"sewing machine case\", \"soldering iron\", \"micro controlers\", \"Legos\", \"Legos case\"]\n",
    "print(makerspace)"
   ]
  },
  {
   "cell_type": "code",
   "execution_count": null,
   "metadata": {},
   "outputs": [],
   "source": [
    "# we can add items to our list using append function\n",
    "# appending adds these items to the end of the list \n",
    "\n",
    "makerspace.append(\"camera\")\n",
    "makerspace.append(\"SD cards\")\n",
    "makerspace.append(\"batteries\")\n",
    "print(makerspace)"
   ]
  },
  {
   "cell_type": "code",
   "execution_count": null,
   "metadata": {},
   "outputs": [],
   "source": [
    "# If we want to insert at a particular place, can can use the insert fuction\n",
    "\n",
    "makerspace.insert(3, \"thread\") # insert takes two parameters: list.insert.(index, element)\n",
    "print(makerspace)"
   ]
  },
  {
   "cell_type": "code",
   "execution_count": null,
   "metadata": {},
   "outputs": [],
   "source": [
    "# we can also use an index to replace an existing element with a new element\n",
    "\n",
    "makerspace[0] = \"Raspberry Pi\"\n",
    "print(makerspace)"
   ]
  },
  {
   "cell_type": "code",
   "execution_count": null,
   "metadata": {},
   "outputs": [],
   "source": [
    "# the del function deletes at an index\n",
    "# del can be used in lists, but not strings\n",
    "\n",
    "del makerspace[4]\n",
    "print(makerspace)"
   ]
  },
  {
   "cell_type": "code",
   "execution_count": null,
   "metadata": {},
   "outputs": [],
   "source": [
    "# the pop function also removes elements from a list at a specific index\n",
    "\n",
    "makerspace.pop(7)\n",
    "print(makerspace)"
   ]
  },
  {
   "cell_type": "markdown",
   "metadata": {},
   "source": [
    "# Challenge 4"
   ]
  },
  {
   "cell_type": "code",
   "execution_count": 105,
   "metadata": {},
   "outputs": [
    {
     "name": "stdout",
     "output_type": "stream",
     "text": [
      "['VCR', 'tape player', 'gramophone', '16 mm projector', 'reel to reel', '8 track', 'record player']\n"
     ]
    }
   ],
   "source": [
    "# append \"record player\" to the end of the list, insert \"gramophone\" at index 2, \n",
    "# delete \"CD\" from the list, reverse and print. \n",
    "\n",
    "analog_media = [\"VCR\", \"tape player\", \"16 mm projector\", \"CD\", \"reel to reel\", \"8 track\"]\n",
    "\n",
    "\n",
    "\n",
    "\n",
    "\n",
    "\n"
   ]
  },
  {
   "cell_type": "markdown",
   "metadata": {},
   "source": [
    "## For Loops\n",
    "Looping allows you to take the same action(s) with every item in a list. This is very useful for when you have lists that contain alot of items. "
   ]
  },
  {
   "cell_type": "code",
   "execution_count": null,
   "metadata": {},
   "outputs": [],
   "source": [
    "# range starts at the first number and goes up to the number BEFORE the stopping number\n",
    "\n",
    "for i in range(1,6):\n",
    "    print(i)"
   ]
  },
  {
   "cell_type": "code",
   "execution_count": null,
   "metadata": {},
   "outputs": [],
   "source": [
    "#range can also include negative numbers\n",
    "\n",
    "for j in range(-3,4):\n",
    "    print(j)"
   ]
  },
  {
   "cell_type": "code",
   "execution_count": null,
   "metadata": {},
   "outputs": [],
   "source": [
    "\n",
    "\n",
    "for k in range(1,6):\n",
    "    print(k,\"squared =\", k**2)"
   ]
  },
  {
   "cell_type": "code",
   "execution_count": null,
   "metadata": {},
   "outputs": [],
   "source": [
    "\n",
    "\n",
    "name_list = [\"Denise\", \"Tariq\", \"Belinda\", \"Byron\", \"Keelie\", \"Charles\", \"Alison\", \"Jamal\", \"Greta\", \"Manuel\"]\n",
    "name_index = 0\n",
    "for name in name_list:\n",
    "    print(name_index, \":\", name)\n",
    "    name_index += 1"
   ]
  },
  {
   "cell_type": "code",
   "execution_count": null,
   "metadata": {},
   "outputs": [],
   "source": [
    "\n",
    "\n",
    "musicians = ['Allen Toussaint', 'Buddy Bolden', 'Danny Barker', 'Dr. John', 'Fats Domino', 'Irma Thomas']\n",
    "for musician in musicians:\n",
    "    print(musician)"
   ]
  },
  {
   "cell_type": "code",
   "execution_count": null,
   "metadata": {},
   "outputs": [],
   "source": [
    "\n",
    "\n",
    "musicians = ['Allen Toussaint', 'Buddy Bolden', 'Danny Barker', 'Dr. John', 'Fats Domino', 'Irma Thomas']\n",
    "for musician in musicians:\n",
    "    print(\"I have a record by \"+ musician + \".\")"
   ]
  },
  {
   "cell_type": "markdown",
   "metadata": {},
   "source": [
    "# Conditional Statements"
   ]
  },
  {
   "cell_type": "markdown",
   "metadata": {},
   "source": [
    "### IF Statements\n",
    "An *if statement allows* you to check for a condition(s) and take action based on that condition(s).\n",
    "Logically it means:\n",
    "\n",
    "`if conditional_met:\n",
    "    do something`"
   ]
  },
  {
   "cell_type": "code",
   "execution_count": null,
   "metadata": {},
   "outputs": [],
   "source": [
    "age = 18\n",
    "if age >= 18:\n",
    "    print(\"You can vote!\")"
   ]
  },
  {
   "cell_type": "code",
   "execution_count": null,
   "metadata": {},
   "outputs": [],
   "source": [
    "name_list = [\"Kylie\", \"Allie\", \"Sherman\", \"Deborah\", \"Kyran\", \"Shawna\", \"Diane\", \"Josephine\", \"Peabody\", \"Ferb\", \"Wylie\"]\n",
    "for name in name_list:\n",
    "    print(name)\n"
   ]
  },
  {
   "cell_type": "code",
   "execution_count": null,
   "metadata": {},
   "outputs": [],
   "source": [
    "for name in name_list:\n",
    "    if name == \"Diane\":\n",
    "        print(name, \"found!\")\n"
   ]
  },
  {
   "cell_type": "markdown",
   "metadata": {},
   "source": [
    "### Else Statements"
   ]
  },
  {
   "cell_type": "code",
   "execution_count": null,
   "metadata": {},
   "outputs": [],
   "source": [
    "# Diane has RSVP'd to say that she can't make it and we should take her off the list\n",
    "counter = 0\n",
    "for name in name_list:\n",
    "    if name == \"Diane\":\n",
    "        print(name, \"found! Located at index: \", counter)\n",
    "        break\n",
    "    else:\n",
    "        print(\"not found ...\", counter)\n",
    "        counter += 1"
   ]
  },
  {
   "cell_type": "code",
   "execution_count": null,
   "metadata": {},
   "outputs": [],
   "source": [
    "# Locating the exact index makes it easier to remove her name. \n",
    "del name_list[6]\n",
    "print(name_list)"
   ]
  },
  {
   "cell_type": "code",
   "execution_count": null,
   "metadata": {},
   "outputs": [],
   "source": [
    "# Python has built-in finding functions that make this very easy\n",
    "name_list2 = [\"Kylie\", \"Allie\", \"Sherman\", \"Deborah\", \"Kyran\", \"Shawna\", \"Diane\", \"Josephine\", \"Peabody\", \"Ferb\", \"Wylie\"]\n",
    "rsvp_yes = [\"Kylie\", \"Allie\", \"Shawna\",\"Josephine\", \"Peabody\", \"Ferb\", \"Wylie\"]\n",
    "rsvp_no = [\"Kyran\",\"Sherman\",\"Diane\"]\n",
    "\n",
    "for name in name_list2:\n",
    "    if name in rsvp_no:\n",
    "        print(name, \"RSVP'd no, removing from list ...\")\n",
    "        name_list2.remove(name)\n",
    "    else:\n",
    "        if name in rsvp_yes:\n",
    "            print(name, \"RSVP'd yes and is coming to the pary!\")\n",
    "            \n",
    "print()\n",
    "print(name_list2)\n"
   ]
  },
  {
   "cell_type": "markdown",
   "metadata": {},
   "source": [
    "### Elif Statement"
   ]
  },
  {
   "cell_type": "code",
   "execution_count": null,
   "metadata": {},
   "outputs": [],
   "source": [
    "# separate the elements into other lists by type\n",
    "\n",
    "my_list = [9, \"Endymion\", 1, \"Rex\", 65.4, \"Zulu\", 30, 9.87, \"Orpheus\", 16.45]\n",
    "my_int_list = []\n",
    "my_float_list = []\n",
    "my_string_list = []\n",
    "\n",
    "for value in my_list:\n",
    "\tif(type(value)==int):\n",
    "\t\tmy_int_list.append(value)\n",
    "\telif(type(value)==float):\n",
    "\t\tmy_float_list.append(value)\n",
    "\telif(type(value)==str):\n",
    "\t\tmy_string_list.append(value)\n",
    "\n",
    "print(my_list)\n",
    "print(my_int_list)\n",
    "print(my_float_list)\n",
    "print(my_string_list)\n"
   ]
  },
  {
   "cell_type": "markdown",
   "metadata": {},
   "source": [
    "### If, Elif, Else Statements"
   ]
  },
  {
   "cell_type": "code",
   "execution_count": null,
   "metadata": {},
   "outputs": [],
   "source": [
    "# counting number ranges\n",
    "\n",
    "#create a list of 50 random numbers between 1 and 100\n",
    "import random\n",
    "number_range_list = []\n",
    "for i in range(0,50):\n",
    "    number=random.randint(1,100)\n",
    "    number_range_list.append(number)\n",
    "\n",
    "# count and categorize numbers by range\n",
    "first_quarter = []\n",
    "second_quarter = []\n",
    "third_quarter = []\n",
    "fourth_quarter = []\n",
    "\n",
    "# check ranges\n",
    "for number in number_range_list:\n",
    "    #print(number)\n",
    "  if number <= 25:\n",
    "      first_quarter.append(number)\n",
    "  elif number <=50:\n",
    "      second_quarter.append(number)\n",
    "  elif number <=75:\n",
    "      third_quarter.append(number)\n",
    "  else:\n",
    "      fourth_quarter.append(number)\n",
    "\n",
    "# calculate percentage of whole in each quarter\n",
    "q1_total = round((len(first_quarter)/50)*100)\n",
    "q2_total = round((len(second_quarter)/50)*100)\n",
    "q3_total = round((len(third_quarter)/50)*100)\n",
    "q4_total = round((len(fourth_quarter)/50)*100)\n",
    "\n",
    "print(first_quarter)\n",
    "print(second_quarter)\n",
    "print(third_quarter)\n",
    "print(fourth_quarter, \"\\n\")\n",
    "\n",
    "# print out the analysis\n",
    "print(q1_total, \"% of numbers between 1 and 25\")\n",
    "print(q2_total, \"% of numbers between 26 and 50\")\n",
    "print(q3_total, \"% of numbers between 51 and 75\")\n",
    "print(q4_total, \"% of numbers between 76 and 100\")\n"
   ]
  },
  {
   "cell_type": "markdown",
   "metadata": {},
   "source": [
    "# Functions & Arguments"
   ]
  },
  {
   "cell_type": "code",
   "execution_count": null,
   "metadata": {},
   "outputs": [],
   "source": []
  },
  {
   "cell_type": "markdown",
   "metadata": {},
   "source": [
    "## Python Libraries"
   ]
  },
  {
   "cell_type": "markdown",
   "metadata": {},
   "source": [
    "Python has a huge collection of libraries, also known as packages, which are essentially a collection of modules in a directory. Python is a package itself and comes with many built in modules. There are, however, many other packages that are useful if you need to complete certain tasks, such as data cleaning, web scrapping, or statistical analysis. "
   ]
  },
  {
   "cell_type": "markdown",
   "metadata": {},
   "source": [
    "### Using Numpy and Matplotlib"
   ]
  },
  {
   "cell_type": "code",
   "execution_count": null,
   "metadata": {},
   "outputs": [],
   "source": [
    "import numpy\n",
    "import matplotlib.pyplot\n",
    "\n",
    "data = numpy.loadtxt(fname='inflammation-01.csv', delimiter=',')\n",
    "\n",
    "fig = matplotlib.pyplot.figure(figsize=(10.0, 3.0))\n",
    "\n",
    "axes1 = fig.add_subplot(1, 3, 1)\n",
    "axes2 = fig.add_subplot(1, 3, 2)\n",
    "axes3 = fig.add_subplot(1, 3, 3)\n",
    "\n",
    "axes1.set_ylabel('average')\n",
    "axes1.plot(numpy.mean(data, axis=0))\n",
    "\n",
    "axes2.set_ylabel('max')\n",
    "axes2.plot(numpy.max(data, axis=0))\n",
    "\n",
    "axes3.set_ylabel('min')\n",
    "axes3.plot(numpy.min(data, axis=0))\n",
    "\n",
    "fig.tight_layout()\n",
    "\n",
    "matplotlib.pyplot.show()\n"
   ]
  },
  {
   "cell_type": "code",
   "execution_count": null,
   "metadata": {},
   "outputs": [],
   "source": []
  }
 ],
 "metadata": {
  "kernelspec": {
   "display_name": "Python 3",
   "language": "python",
   "name": "python3"
  },
  "language_info": {
   "codemirror_mode": {
    "name": "ipython",
    "version": 3
   },
   "file_extension": ".py",
   "mimetype": "text/x-python",
   "name": "python",
   "nbconvert_exporter": "python",
   "pygments_lexer": "ipython3",
   "version": "3.7.4"
  }
 },
 "nbformat": 4,
 "nbformat_minor": 2
}
