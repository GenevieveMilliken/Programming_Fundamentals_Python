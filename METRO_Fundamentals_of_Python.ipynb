{
 "cells": [
  {
   "cell_type": "markdown",
   "metadata": {},
   "source": [
    "# METRO Library Council - Fundamentals of Python 2020.02.25"
   ]
  },
  {
   "cell_type": "markdown",
   "metadata": {},
   "source": [
    "# Why Python? \n",
    "\n",
    "Python is an incredibly efficient programming language and allows us to do some impressive things with only a few lines of code! Thanks to Python’s syntax, we can write “clean” code that is easier to debug and allows for overall readability. Further, Python is easily extendable and reusable, allowing you and others to build upon existing code. Python is used in a variety of contexts from game design to data analysis. It is also used a lot in academic research, especially in the sciences. It has utility regardless what discipline you come from or are currently working in."
   ]
  },
  {
   "cell_type": "markdown",
   "metadata": {},
   "source": [
    "## Python Environment\n",
    "If Python is installed on your computer, you can interact with it on the command line, sometimes referred to as the \"terminal\", \"console\", \"Python shell\" or \"REPL\" (Read, Eval, Print and Loop). More often, people use a text editor, such as [Sublime](https://www.sublimetext.com/), or more sophisticated IDEs such as [PyCharm](https://www.jetbrains.com/pycharm/).\n",
    "\n",
    "Today, we are using a Jupyter Notebook, which is browser-based and allows users to selectively run code and add rich text elements (paragraph, equations, figures, notes, links) in Markdown. "
   ]
  },
  {
   "cell_type": "markdown",
   "metadata": {},
   "source": [
    "## Basic Syntax\n",
    "Python is sometimes loosely referred to 'executable pseudocode' since it often uses easily recognizable words, which can be used to infer what is happening or what will happen. Take for example, the simple line of code below. What do you think will happen when we run it? **to run press Shift-Enter**"
   ]
  },
  {
   "cell_type": "code",
   "execution_count": null,
   "metadata": {
    "scrolled": true
   },
   "outputs": [],
   "source": [
    "print(\"Hello, World!\")"
   ]
  },
  {
   "cell_type": "markdown",
   "metadata": {},
   "source": [
    "# Variables"
   ]
  },
  {
   "cell_type": "code",
   "execution_count": null,
   "metadata": {},
   "outputs": [],
   "source": [
    "## To use data, we first assign it to a \"variable\"\n",
    "\n",
    " NY_state_bird = \"Eastern Bluebird\""
   ]
  },
  {
   "cell_type": "markdown",
   "metadata": {},
   "source": [
    "You can think about it as:\n",
    "> \"The variable 'NY_state_bird' *gets* the value Eastern Bluebird\"."
   ]
  },
  {
   "cell_type": "code",
   "execution_count": null,
   "metadata": {},
   "outputs": [],
   "source": [
    "message = \"Hello, World!\"\n",
    "print(message)"
   ]
  },
  {
   "cell_type": "markdown",
   "metadata": {},
   "source": [
    "A variable, like the one above, holds a *value* and once assigned holds the information associated with that value. The value can be changed or reassigned within the program, but will remain the same until you alter it. For example, we can change the value of message to something new. "
   ]
  },
  {
   "cell_type": "code",
   "execution_count": null,
   "metadata": {},
   "outputs": [],
   "source": [
    "message = \"METRO rocks!\"\n",
    "print(message)"
   ]
  },
  {
   "cell_type": "markdown",
   "metadata": {},
   "source": [
    "Why can we do this? Because Python interprets one line at a time! Be careful, once a variable has been changed, it will hold that new value. When in doubt, don't re-use variable names."
   ]
  },
  {
   "cell_type": "markdown",
   "metadata": {},
   "source": [
    "### Rules for naming variables"
   ]
  },
  {
   "cell_type": "markdown",
   "metadata": {},
   "source": [
    "* can only contain letters, numbers, and underscores\n",
    "* can start with an underscore, but not a number\n",
    "* no spaces, but an underscore can be used to separate words or you can use CamelCase\n",
    "* cannot use the names of Python [built-in functions](https://docs.python.org/3/library/functions.html) or [keywords](https://www.w3schools.com/python/python_ref_keywords.asp)\n",
    "* should be short, but descriptive (employee_name is better than e_n)"
   ]
  },
  {
   "cell_type": "code",
   "execution_count": null,
   "metadata": {},
   "outputs": [],
   "source": [
    "# keywords, built-in functions, and reserved words cannot be used as variable names \n",
    "True = 3"
   ]
  },
  {
   "cell_type": "code",
   "execution_count": null,
   "metadata": {},
   "outputs": [],
   "source": [
    "message = \"I'm starting to understand variables!\"\n",
    "print(mesage)"
   ]
  },
  {
   "cell_type": "markdown",
   "metadata": {},
   "source": [
    "# Data Types\n",
    "Four of the most basic data types in Python are:\n",
    "* string: `\"Hello, World!\"`\n",
    "* integer: `74`\n",
    "* decimal (float): `7.4`\n",
    "* boolean: `TRUE` `FALSE`"
   ]
  },
  {
   "cell_type": "code",
   "execution_count": null,
   "metadata": {},
   "outputs": [],
   "source": [
    "message = (\"Hello, World\")\n",
    "num = 74\n",
    "print(type(message))\n",
    "print(type(num))"
   ]
  },
  {
   "cell_type": "markdown",
   "metadata": {},
   "source": [
    "## Strings\n",
    "A *string* is a series of unicode characters surrounded by single or double quotation marks."
   ]
  },
  {
   "cell_type": "code",
   "execution_count": null,
   "metadata": {},
   "outputs": [],
   "source": [
    "favorite_game = \"sonic the hedgehog\"\n",
    "print(type(favorite_game))\n",
    "print(len(favorite_game))"
   ]
  },
  {
   "cell_type": "code",
   "execution_count": null,
   "metadata": {},
   "outputs": [],
   "source": [
    "# helpful built-in functions that transform strings\n",
    "\n",
    "print(favorite_game.title())\n",
    "print(favorite_game.upper())\n",
    "print(favorite_game.lower())\n"
   ]
  },
  {
   "cell_type": "code",
   "execution_count": null,
   "metadata": {},
   "outputs": [],
   "source": [
    "# Create a variable and assign it a string; then print it\n",
    "\n",
    "\n"
   ]
  },
  {
   "cell_type": "markdown",
   "metadata": {},
   "source": [
    "### Concatenating Strings"
   ]
  },
  {
   "cell_type": "code",
   "execution_count": null,
   "metadata": {},
   "outputs": [],
   "source": [
    "first_name = \"grace\"\n",
    "last_name = \"hopper\"\n",
    "full_name = first_name + \" \" + last_name\n",
    "print(full_name)"
   ]
  },
  {
   "cell_type": "code",
   "execution_count": null,
   "metadata": {},
   "outputs": [],
   "source": [
    "print(full_name.title() + \" was a pioneer of computer programming.\")"
   ]
  },
  {
   "cell_type": "markdown",
   "metadata": {},
   "source": [
    "Now you try! Create two variables and print out a message of your own!"
   ]
  },
  {
   "cell_type": "code",
   "execution_count": null,
   "metadata": {},
   "outputs": [],
   "source": [
    "## Create two variables and use the print statement to tell us about something that interests you! \n",
    "\n",
    "\n",
    "\n"
   ]
  },
  {
   "cell_type": "code",
   "execution_count": null,
   "metadata": {},
   "outputs": [],
   "source": [
    "first_name = \"alan\"\n",
    "last_name = \"turing\"\n",
    "full_name = first_name + \" \" + last_name \n",
    "print(full_name.title() + \" once said, \\\"Machines take me by surprise with great frequency.\\\"\") "
   ]
  },
  {
   "cell_type": "code",
   "execution_count": null,
   "metadata": {},
   "outputs": [],
   "source": [
    "line_one = \"An old silent pond...\"\n",
    "line_two = \"A frog jumps into the pond,\"\n",
    "line_three = \"splash! Silence again.\"\n",
    "Basho_Haiku = line_one + \"\\n\" + line_two + \"\\n\" + line_three\n",
    "print(Basho_Haiku)\n"
   ]
  },
  {
   "cell_type": "code",
   "execution_count": null,
   "metadata": {},
   "outputs": [],
   "source": [
    "# create a quote from a famous person or create your own haiku (5, 7, 5)\n",
    "\n",
    "\n",
    "\n",
    "\n"
   ]
  },
  {
   "cell_type": "markdown",
   "metadata": {},
   "source": [
    "### Tidying up Strings"
   ]
  },
  {
   "cell_type": "code",
   "execution_count": null,
   "metadata": {
    "scrolled": true
   },
   "outputs": [],
   "source": [
    "text = \" this sentence has too many    spaces. \"\n",
    "print(text) \n",
    "\n",
    "text = text.lstrip()\n",
    "text = text.rstrip()\n",
    "print(text)"
   ]
  },
  {
   "cell_type": "code",
   "execution_count": null,
   "metadata": {},
   "outputs": [],
   "source": [
    "text = text.replace(\"    \", \" \")\n",
    "print(text)"
   ]
  },
  {
   "cell_type": "code",
   "execution_count": null,
   "metadata": {},
   "outputs": [],
   "source": [
    "# Working with a list of strings may require some tidying up. Often this is a process!\n",
    "import re\n",
    "\n",
    "crawfish_pasta = \"1/4 cup olive oil; 5 scallions, roughly chopped; 2 cloves garlic, minced; 1 medium yellow onion, minced; 1/2 small green bell pepper, seeded and minced; 1/2 cup dry white wine; dried mint; 1 can whole peeled tomatoes; 2 lb. cooked, peeled crawfish tails; 1 cup heavy cream; 1/3 cup roughly chopped parsley, plus more for garnish; Tabasco; Kosher salt and freshly ground black pepper; 1 lb. linguine;Grated parmesan\"\n",
    "crawfish_pasta = crawfish_pasta.replace(\", minced\", \"\").replace(\", roughly chopped\", \"\").replace(\"/\", \"\").replace(\" cup\", \"\").replace(\", seeded and minced\", \"\").replace(\"roughly chopped\", \"\").replace(\", plus more for garnish\", \"\").replace(\"lb. \", \"\")\n",
    "\n",
    "# use a simple regular expression to remove numbers and strip white space\n",
    "crawfish_pasta = re.sub('[0-9]', '', crawfish_pasta).strip()\n",
    "\n",
    "# replace consecutive spaces and colapse spaces following the semicolons \n",
    "crawfish_pasta = crawfish_pasta.replace(\"  \", \"\").replace(\"; \", \";\")\n",
    "\n",
    "#split at semicolon (i.e. our delimiter) and break string into a list\n",
    "crawfish_pasta = crawfish_pasta.split(';')\n",
    "print(crawfish_pasta)\n"
   ]
  },
  {
   "cell_type": "code",
   "execution_count": null,
   "metadata": {
    "scrolled": true
   },
   "outputs": [],
   "source": [
    "for ingredient in crawfish_pasta:\n",
    "    print(ingredient)"
   ]
  },
  {
   "cell_type": "markdown",
   "metadata": {},
   "source": [
    "## Integers\n",
    "An *integer* in Python is a whole number, also known as counting numbers or natural numbers. They can be positive or negative."
   ]
  },
  {
   "cell_type": "code",
   "execution_count": null,
   "metadata": {},
   "outputs": [],
   "source": [
    "3+4 # Addition"
   ]
  },
  {
   "cell_type": "code",
   "execution_count": null,
   "metadata": {},
   "outputs": [],
   "source": [
    "4-3 # Subtraction"
   ]
  },
  {
   "cell_type": "code",
   "execution_count": null,
   "metadata": {},
   "outputs": [],
   "source": [
    "30*10 # Multiplication"
   ]
  },
  {
   "cell_type": "code",
   "execution_count": null,
   "metadata": {
    "scrolled": true
   },
   "outputs": [],
   "source": [
    "30/10 # Whole division"
   ]
  },
  {
   "cell_type": "code",
   "execution_count": null,
   "metadata": {},
   "outputs": [],
   "source": [
    "46//4 #Floor Division"
   ]
  },
  {
   "cell_type": "code",
   "execution_count": null,
   "metadata": {},
   "outputs": [],
   "source": [
    "10**6 ## An exponent operation"
   ]
  },
  {
   "cell_type": "code",
   "execution_count": null,
   "metadata": {},
   "outputs": [],
   "source": [
    "## Order of Operations PEMDAS - Please excuse my dear Aunt Sally!\n",
    "10 - ((14 / 2) * 3) + 1"
   ]
  },
  {
   "cell_type": "code",
   "execution_count": null,
   "metadata": {},
   "outputs": [],
   "source": [
    "# determine if a number is odd or even using modulo, or remainder, operations\n",
    "even_num = 10%2\n",
    "odd_num = 15%2\n",
    "\n",
    "print(even_num)\n",
    "print(odd_num)\n"
   ]
  },
  {
   "cell_type": "markdown",
   "metadata": {},
   "source": [
    "Why? \n",
    "An even number has no remainder when divided by 2. An odd number will have a remainder."
   ]
  },
  {
   "cell_type": "markdown",
   "metadata": {},
   "source": [
    "## Floats\n",
    "A *float* in Python is any number with a decimal point."
   ]
  },
  {
   "cell_type": "code",
   "execution_count": null,
   "metadata": {},
   "outputs": [],
   "source": [
    "# volume of a rectangle\n",
    "height = 3.5\n",
    "length = 7.25\n",
    "width = 7.75\n",
    "V = height*length*width\n",
    "print(V)"
   ]
  },
  {
   "cell_type": "code",
   "execution_count": null,
   "metadata": {},
   "outputs": [],
   "source": [
    "int(V)"
   ]
  },
  {
   "cell_type": "code",
   "execution_count": null,
   "metadata": {},
   "outputs": [],
   "source": [
    "round(V, 2)"
   ]
  },
  {
   "cell_type": "markdown",
   "metadata": {},
   "source": [
    "The round function can also be helpful for breaking down a float into its whole number and decimal parts."
   ]
  },
  {
   "cell_type": "code",
   "execution_count": null,
   "metadata": {},
   "outputs": [],
   "source": [
    "float_number = 2.35\n",
    "whole_number_portion = round(float_number, 5)\n",
    "decimal_portion = float_number-whole_number_portion\n",
    "\n",
    "print(float_number)\n",
    "print(whole_number_portion)\n",
    "print(decimal_portion)"
   ]
  },
  {
   "cell_type": "markdown",
   "metadata": {},
   "source": [
    "It is possible to set the precision of a decimal portion using round"
   ]
  },
  {
   "cell_type": "code",
   "execution_count": null,
   "metadata": {},
   "outputs": [],
   "source": [
    "decimal_portion = round(decimal_portion, 2)\n",
    "print(decimal_portion)"
   ]
  },
  {
   "cell_type": "markdown",
   "metadata": {},
   "source": [
    "### Avoiding TypeError with the Str() Function"
   ]
  },
  {
   "cell_type": "code",
   "execution_count": null,
   "metadata": {},
   "outputs": [],
   "source": [
    "fav_num = 3.14\n",
    "message = \"My favorite number is \" + fav_num\n",
    "print(message)"
   ]
  },
  {
   "cell_type": "code",
   "execution_count": null,
   "metadata": {},
   "outputs": [],
   "source": [
    "# Write a addition, subtraction, multiplication, and division statement\n",
    "# that each result in the number 25. \n",
    "\n",
    "\n"
   ]
  },
  {
   "cell_type": "markdown",
   "metadata": {},
   "source": [
    "## Booleans"
   ]
  },
  {
   "cell_type": "code",
   "execution_count": null,
   "metadata": {},
   "outputs": [],
   "source": [
    "3>=4"
   ]
  },
  {
   "cell_type": "code",
   "execution_count": null,
   "metadata": {},
   "outputs": [],
   "source": [
    "3 == 4"
   ]
  },
  {
   "cell_type": "code",
   "execution_count": null,
   "metadata": {},
   "outputs": [],
   "source": [
    "x = 255\n",
    "y = 33\n",
    "\n",
    "if x > y:\n",
    "  print(\"x is greater than y.\")\n",
    "else:\n",
    "  print(\"x is not greater than y.\")"
   ]
  },
  {
   "cell_type": "markdown",
   "metadata": {},
   "source": [
    "# Lists\n",
    "A *list* is a collection of items in a particular order. Lists can contain strings, integers, floats and each element is separtated by a comma. Lists are always inside square brackets."
   ]
  },
  {
   "cell_type": "code",
   "execution_count": null,
   "metadata": {},
   "outputs": [],
   "source": [
    "my_grocery_list = [\"bananas\", \"pears\", \"apples\", \"chocolate\", \"coffee\", \"cereal\", \"kale\", \"juice\"]"
   ]
  },
  {
   "cell_type": "code",
   "execution_count": null,
   "metadata": {},
   "outputs": [],
   "source": [
    "len(my_grocery_list)"
   ]
  },
  {
   "cell_type": "code",
   "execution_count": null,
   "metadata": {},
   "outputs": [],
   "source": [
    "print(my_grocery_list[2])"
   ]
  },
  {
   "cell_type": "code",
   "execution_count": null,
   "metadata": {},
   "outputs": [],
   "source": [
    "print(my_grocery_list[-1])"
   ]
  },
  {
   "cell_type": "code",
   "execution_count": null,
   "metadata": {},
   "outputs": [],
   "source": [
    "print(my_grocery_list[3:5])"
   ]
  },
  {
   "cell_type": "code",
   "execution_count": null,
   "metadata": {},
   "outputs": [],
   "source": [
    "print(sorted(my_grocery_list))"
   ]
  },
  {
   "cell_type": "code",
   "execution_count": null,
   "metadata": {},
   "outputs": [],
   "source": [
    "print(my_grocery_list)"
   ]
  },
  {
   "cell_type": "code",
   "execution_count": null,
   "metadata": {
    "scrolled": true
   },
   "outputs": [],
   "source": [
    "my_grocery_list.sort()\n",
    "print(my_grocery_list)"
   ]
  },
  {
   "cell_type": "code",
   "execution_count": null,
   "metadata": {},
   "outputs": [],
   "source": [
    "my_grocery_list.reverse()\n",
    "print(my_grocery_list)"
   ]
  },
  {
   "cell_type": "code",
   "execution_count": null,
   "metadata": {},
   "outputs": [],
   "source": [
    "# Make a list of 7 to 10 items\n",
    "# print the list\n",
    "# reverse and print the list \n",
    "# print the middle three elements of the list\n",
    "\n",
    "\n",
    "\n",
    "\n"
   ]
  },
  {
   "cell_type": "markdown",
   "metadata": {},
   "source": [
    "### Adding, Editing, and Removing Items in a list"
   ]
  },
  {
   "cell_type": "code",
   "execution_count": null,
   "metadata": {},
   "outputs": [],
   "source": [
    "makerspace = [\"Arduino\", \"3D printer\", \"sewing machine\", \"sewing machine case\", \"soldering iron\", \"micro controlers\", \"Legos\", \"Legos case\"]"
   ]
  },
  {
   "cell_type": "code",
   "execution_count": null,
   "metadata": {},
   "outputs": [],
   "source": [
    "makerspace.append(\"camera\")\n",
    "makerspace.append(\"SD cards\")\n",
    "makerspace.append(\"batteries\")\n",
    "print(makerspace)"
   ]
  },
  {
   "cell_type": "code",
   "execution_count": null,
   "metadata": {},
   "outputs": [],
   "source": [
    "makerspace.insert(3, \"thread\")\n",
    "print(makerspace)"
   ]
  },
  {
   "cell_type": "code",
   "execution_count": null,
   "metadata": {},
   "outputs": [],
   "source": [
    "makerspace[0] = \"Raspberry Pi\"\n",
    "print(makerspace)"
   ]
  },
  {
   "cell_type": "code",
   "execution_count": null,
   "metadata": {},
   "outputs": [],
   "source": [
    "del makerspace[4]\n",
    "print(makerspace)"
   ]
  },
  {
   "cell_type": "code",
   "execution_count": null,
   "metadata": {},
   "outputs": [],
   "source": [
    "makerspace.pop(7)\n",
    "print(makerspace)"
   ]
  },
  {
   "cell_type": "markdown",
   "metadata": {},
   "source": [
    "## For Loops\n",
    "Looping allows you to take the same action(s) with every item in a list. This is very useful for when you have lists that contain alot of items. "
   ]
  },
  {
   "cell_type": "code",
   "execution_count": null,
   "metadata": {},
   "outputs": [],
   "source": [
    "# range starts at the first number and goes up to the number BEFORE the stopping number\n",
    "\n",
    "for i in range(1,6):\n",
    "    print(i)"
   ]
  },
  {
   "cell_type": "code",
   "execution_count": null,
   "metadata": {},
   "outputs": [],
   "source": [
    "#range can also include negative numbers\n",
    "\n",
    "for j in range(-3,4):\n",
    "    print(j)"
   ]
  },
  {
   "cell_type": "code",
   "execution_count": null,
   "metadata": {},
   "outputs": [],
   "source": [
    "for k in range(1,6):\n",
    "    print(k,\"squared =\", k**2)"
   ]
  },
  {
   "cell_type": "code",
   "execution_count": null,
   "metadata": {},
   "outputs": [],
   "source": [
    "name_list = [\"Denise\", \"Tariq\", \"Belinda\", \"Byron\", \"Keelie\", \"Charles\", \"Alison\", \"Jamal\", \"Greta\", \"Manuel\"]\n",
    "name_index = 0\n",
    "for name in name_list:\n",
    "    print(name_index, \":\", name)\n",
    "    name_index += 1"
   ]
  },
  {
   "cell_type": "code",
   "execution_count": null,
   "metadata": {},
   "outputs": [],
   "source": [
    "musicians = ['Allen Toussaint', 'Buddy Bolden', 'Danny Barker', 'Dr. John', 'Fats Domino', 'Irma Thomas']\n",
    "for musician in musicians:\n",
    "    print(musician)"
   ]
  },
  {
   "cell_type": "code",
   "execution_count": null,
   "metadata": {},
   "outputs": [],
   "source": [
    "musicians = ['Allen Toussaint', 'Buddy Bolden', 'Danny Barker', 'Dr. John', 'Fats Domino', 'Irma Thomas']\n",
    "for musician in musicians:\n",
    "    print(\"I have a record by \"+ musician + \".\")"
   ]
  },
  {
   "cell_type": "markdown",
   "metadata": {},
   "source": [
    "# Conditional Statements"
   ]
  },
  {
   "cell_type": "markdown",
   "metadata": {},
   "source": [
    "### IF Statements\n",
    "An *if statement allows* you to check for a condition(s) and take action based on that condition(s).\n",
    "Logically it means:\n",
    "\n",
    "`if conditional_met:\n",
    "    do something`"
   ]
  },
  {
   "cell_type": "code",
   "execution_count": null,
   "metadata": {},
   "outputs": [],
   "source": [
    "age = 18\n",
    "if age >= 18:\n",
    "    print(\"You can vote!\")"
   ]
  },
  {
   "cell_type": "code",
   "execution_count": 95,
   "metadata": {},
   "outputs": [
    {
     "name": "stdout",
     "output_type": "stream",
     "text": [
      "Kylie\n",
      "Allie\n",
      "Sherman\n",
      "Deborah\n",
      "Kyran\n",
      "Shawna\n",
      "Diane\n",
      "Josephine\n",
      "Peabody\n",
      "Ferb\n",
      "Wylie\n"
     ]
    }
   ],
   "source": [
    "name_list = [\"Kylie\", \"Allie\", \"Sherman\", \"Deborah\", \"Kyran\", \"Shawna\", \"Diane\", \"Josephine\", \"Peabody\", \"Ferb\", \"Wylie\"]\n",
    "for name in name_list:\n",
    "    print(name)\n"
   ]
  },
  {
   "cell_type": "code",
   "execution_count": 96,
   "metadata": {},
   "outputs": [
    {
     "name": "stdout",
     "output_type": "stream",
     "text": [
      "Diane found!\n"
     ]
    }
   ],
   "source": [
    "for name in name_list:\n",
    "    if name == \"Diane\":\n",
    "        print(name, \"found!\")\n"
   ]
  },
  {
   "cell_type": "markdown",
   "metadata": {},
   "source": [
    "### Else Statements"
   ]
  },
  {
   "cell_type": "code",
   "execution_count": 97,
   "metadata": {},
   "outputs": [
    {
     "name": "stdout",
     "output_type": "stream",
     "text": [
      "not found ... 0\n",
      "not found ... 1\n",
      "not found ... 2\n",
      "not found ... 3\n",
      "not found ... 4\n",
      "not found ... 5\n",
      "Diane found! Located at index:  6\n"
     ]
    }
   ],
   "source": [
    "# Diane has RSVP'd to say that she can't make it and we should take her off the list\n",
    "counter = 0\n",
    "for name in name_list:\n",
    "    if name == \"Diane\":\n",
    "        print(name, \"found! Located at index: \", counter)\n",
    "        break\n",
    "    else:\n",
    "        print(\"not found ...\", counter)\n",
    "        counter += 1"
   ]
  },
  {
   "cell_type": "code",
   "execution_count": 98,
   "metadata": {},
   "outputs": [
    {
     "name": "stdout",
     "output_type": "stream",
     "text": [
      "['Kylie', 'Allie', 'Sherman', 'Deborah', 'Kyran', 'Shawna', 'Josephine', 'Peabody', 'Ferb', 'Wylie']\n"
     ]
    }
   ],
   "source": [
    "# Locating the exact index makes it easier to remove her name. \n",
    "del name_list[6]\n",
    "print(name_list)"
   ]
  },
  {
   "cell_type": "code",
   "execution_count": 107,
   "metadata": {},
   "outputs": [
    {
     "name": "stdout",
     "output_type": "stream",
     "text": [
      "Kylie RSVP'd yes and is coming to the pary!\n",
      "Allie RSVP'd yes and is coming to the pary!\n",
      "Sherman RSVP'd no, removing from list ...\n",
      "Kyran RSVP'd no, removing from list ...\n",
      "Diane RSVP'd no, removing from list ...\n",
      "Peabody RSVP'd yes and is coming to the pary!\n",
      "Ferb RSVP'd yes and is coming to the pary!\n",
      "Wylie RSVP'd yes and is coming to the pary!\n",
      "\n",
      "['Kylie', 'Allie', 'Deborah', 'Shawna', 'Josephine', 'Peabody', 'Ferb', 'Wylie']\n"
     ]
    }
   ],
   "source": [
    "# Python has built-in finding functions that make this very easy\n",
    "name_list2 = [\"Kylie\", \"Allie\", \"Sherman\", \"Deborah\", \"Kyran\", \"Shawna\", \"Diane\", \"Josephine\", \"Peabody\", \"Ferb\", \"Wylie\"]\n",
    "rsvp_yes = [\"Kylie\", \"Allie\", \"Shawna\",\"Josephine\", \"Peabody\", \"Ferb\", \"Wylie\"]\n",
    "rsvp_no = [\"Kyran\",\"Sherman\",\"Diane\"]\n",
    "\n",
    "for name in name_list2:\n",
    "    if name in rsvp_no:\n",
    "        print(name, \"RSVP'd no, removing from list ...\")\n",
    "        name_list2.remove(name)\n",
    "    else:\n",
    "        if name in rsvp_yes:\n",
    "            print(name, \"RSVP'd yes and is coming to the pary!\")\n",
    "            \n",
    "print()\n",
    "print(name_list2)\n"
   ]
  },
  {
   "cell_type": "markdown",
   "metadata": {},
   "source": [
    "### Elif Statement"
   ]
  },
  {
   "cell_type": "code",
   "execution_count": null,
   "metadata": {},
   "outputs": [],
   "source": [
    "# separate the elements into other lists by type\n",
    "\n",
    "my_list = [9, \"Endymion\", 1, \"Rex\", 65.4, \"Zulu\", 30, 9.87, \"Orpheus\", 16.45]\n",
    "my_int_list = []\n",
    "my_float_list = []\n",
    "my_string_list = []\n",
    "\n",
    "for value in my_list:\n",
    "\tif(type(value)==int):\n",
    "\t\tmy_int_list.append(value)\n",
    "\telif(type(value)==float):\n",
    "\t\tmy_float_list.append(value)\n",
    "\telif(type(value)==str):\n",
    "\t\tmy_string_list.append(value)\n",
    "\n",
    "print(my_list)\n",
    "print(my_int_list)\n",
    "print(my_float_list)\n",
    "print(my_string_list)\n"
   ]
  },
  {
   "cell_type": "markdown",
   "metadata": {},
   "source": [
    "### If, Elif, Else Statements"
   ]
  },
  {
   "cell_type": "code",
   "execution_count": 131,
   "metadata": {},
   "outputs": [
    {
     "name": "stdout",
     "output_type": "stream",
     "text": [
      "[19, 19, 24, 6, 13, 3, 15, 10, 21, 21, 7]\n",
      "[46, 46, 49, 40, 35, 41, 49, 29, 33, 41, 28, 41]\n",
      "[56, 63, 55, 56, 69, 61, 75, 74, 61, 66, 72, 51, 71, 51]\n",
      "[91, 86, 85, 84, 81, 89, 87, 96, 93, 95, 83, 95, 96] \n",
      "\n",
      "22 % of numbers between 1 and 25\n",
      "24 % of numbers between 26 and 50\n",
      "28 % of numbers between 51 and 75\n",
      "26 % of numbers between 76 and 100\n"
     ]
    }
   ],
   "source": [
    "# counting number ranges\n",
    "\n",
    "#create a list of 50 random numbers between 1 and 100\n",
    "import random\n",
    "number_range_list = []\n",
    "for i in range(0,50):\n",
    "    number=random.randint(1,100)\n",
    "    number_range_list.append(number)\n",
    "\n",
    "# count and categorize numbers by range\n",
    "first_quarter = []\n",
    "second_quarter = []\n",
    "third_quarter = []\n",
    "fourth_quarter = []\n",
    "\n",
    "# check ranges\n",
    "for number in number_range_list:\n",
    "    #print(number)\n",
    "  if number <= 25:\n",
    "      first_quarter.append(number)\n",
    "  elif number <=50:\n",
    "      second_quarter.append(number)\n",
    "  elif number <=75:\n",
    "      third_quarter.append(number)\n",
    "  else:\n",
    "      fourth_quarter.append(number)\n",
    "\n",
    "# calculate percentage of whole in each quarter\n",
    "q1_total = round((len(first_quarter)/50)*100)\n",
    "q2_total = round((len(second_quarter)/50)*100)\n",
    "q3_total = round((len(third_quarter)/50)*100)\n",
    "q4_total = round((len(fourth_quarter)/50)*100)\n",
    "\n",
    "print(first_quarter)\n",
    "print(second_quarter)\n",
    "print(third_quarter)\n",
    "print(fourth_quarter, \"\\n\")\n",
    "\n",
    "# print out the analysis\n",
    "print(q1_total, \"% of numbers between 1 and 25\")\n",
    "print(q2_total, \"% of numbers between 26 and 50\")\n",
    "print(q3_total, \"% of numbers between 51 and 75\")\n",
    "print(q4_total, \"% of numbers between 76 and 100\")\n"
   ]
  },
  {
   "cell_type": "markdown",
   "metadata": {},
   "source": [
    "# Functions & Arguments"
   ]
  },
  {
   "cell_type": "code",
   "execution_count": null,
   "metadata": {},
   "outputs": [],
   "source": []
  },
  {
   "cell_type": "markdown",
   "metadata": {},
   "source": [
    "## Python Libraries"
   ]
  },
  {
   "cell_type": "markdown",
   "metadata": {},
   "source": [
    "Python has a huge collection of libraries, also known as packages, which are essentially a collection of modules in a directory. Python is a package itself and comes with many built in modules. There are, however, many other packages that are useful if you need to complete certain tasks, such as data cleaning, web scrapping, or statistical analysis. "
   ]
  },
  {
   "cell_type": "markdown",
   "metadata": {},
   "source": [
    "### Using Numpy and Matplotlib"
   ]
  },
  {
   "cell_type": "code",
   "execution_count": null,
   "metadata": {},
   "outputs": [],
   "source": [
    "import numpy\n",
    "import matplotlib.pyplot\n",
    "\n",
    "data = numpy.loadtxt(fname='inflammation-01.csv', delimiter=',')\n",
    "\n",
    "fig = matplotlib.pyplot.figure(figsize=(10.0, 3.0))\n",
    "\n",
    "axes1 = fig.add_subplot(1, 3, 1)\n",
    "axes2 = fig.add_subplot(1, 3, 2)\n",
    "axes3 = fig.add_subplot(1, 3, 3)\n",
    "\n",
    "axes1.set_ylabel('average')\n",
    "axes1.plot(numpy.mean(data, axis=0))\n",
    "\n",
    "axes2.set_ylabel('max')\n",
    "axes2.plot(numpy.max(data, axis=0))\n",
    "\n",
    "axes3.set_ylabel('min')\n",
    "axes3.plot(numpy.min(data, axis=0))\n",
    "\n",
    "fig.tight_layout()\n",
    "\n",
    "matplotlib.pyplot.show()\n"
   ]
  },
  {
   "cell_type": "code",
   "execution_count": null,
   "metadata": {},
   "outputs": [],
   "source": []
  }
 ],
 "metadata": {
  "kernelspec": {
   "display_name": "Python 3",
   "language": "python",
   "name": "python3"
  },
  "language_info": {
   "codemirror_mode": {
    "name": "ipython",
    "version": 3
   },
   "file_extension": ".py",
   "mimetype": "text/x-python",
   "name": "python",
   "nbconvert_exporter": "python",
   "pygments_lexer": "ipython3",
   "version": "3.7.4"
  }
 },
 "nbformat": 4,
 "nbformat_minor": 2
}
